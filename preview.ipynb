{
 "cells": [
  {
   "cell_type": "markdown",
   "id": "48e341d7",
   "metadata": {},
   "source": [
    "# Preview"
   ]
  },
  {
   "cell_type": "code",
   "execution_count": null,
   "id": "d57d13e8",
   "metadata": {},
   "outputs": [],
   "source": [
    "from soccer_viz import Pitch"
   ]
  },
  {
   "cell_type": "code",
   "execution_count": null,
   "id": "d73b0ebc",
   "metadata": {},
   "outputs": [],
   "source": [
    "pitch = Pitch()\n",
    "pitch.add_point(x=90, y=5, text=\"Saka\", number=7, color=pitch.theme.home_team)\n",
    "pitch.show()"
   ]
  },
  {
   "cell_type": "code",
   "execution_count": null,
   "id": "7d11e0c1",
   "metadata": {},
   "outputs": [],
   "source": []
  }
 ],
 "metadata": {
  "kernelspec": {
   "display_name": "that-game",
   "language": "python",
   "name": "python3"
  },
  "language_info": {
   "codemirror_mode": {
    "name": "ipython",
    "version": 3
   },
   "file_extension": ".py",
   "mimetype": "text/x-python",
   "name": "python",
   "nbconvert_exporter": "python",
   "pygments_lexer": "ipython3",
   "version": "3.13.2"
  }
 },
 "nbformat": 4,
 "nbformat_minor": 5
}
